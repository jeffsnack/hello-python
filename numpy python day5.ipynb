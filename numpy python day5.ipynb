{
 "cells": [
  {
   "cell_type": "code",
   "execution_count": 4,
   "metadata": {},
   "outputs": [],
   "source": [
    "import numpy as np"
   ]
  },
  {
   "cell_type": "code",
   "execution_count": 26,
   "metadata": {},
   "outputs": [],
   "source": [
    "english_score = np.array([55,89,76,65,48,70])\n",
    "\n",
    "math_score = np.array([60,85,60,68,np.nan,60])\n",
    "\n",
    "chinese_score = np.array([65,90,82,72,66,77])"
   ]
  },
  {
   "cell_type": "code",
   "execution_count": 27,
   "metadata": {},
   "outputs": [
    {
     "name": "stdout",
     "output_type": "stream",
     "text": [
      "[89, 48, 67.16666666666667]\n"
     ]
    }
   ],
   "source": [
    "#英文最大值\n",
    "a = []\n",
    "en_max = np.max(english_score)\n",
    "a.append(en_max)\n",
    "#英文最小值\n",
    "en_min = np.min(english_score)\n",
    "a.append(en_min)\n",
    "#英文平均值\n",
    "en_mean = np.mean(english_score)\n",
    "a.append(en_mean)\n",
    "print(a)"
   ]
  },
  {
   "cell_type": "code",
   "execution_count": 30,
   "metadata": {},
   "outputs": [
    {
     "name": "stdout",
     "output_type": "stream",
     "text": [
      "[85.0, 60.0, 66.6]\n",
      "[85, 55, 64.66666666666667, 9.860132971832694]\n"
     ]
    }
   ],
   "source": [
    "#數學補考後\n",
    "math_score1 = np.array([60,85,60,68,55,60])\n",
    "#數學最大值\n",
    "b = []\n",
    "b1 = []\n",
    "mt_max = np.nanmax(math_score)\n",
    "mt_max1 = np.nanmax(math_score1)\n",
    "b.append(mt_max)\n",
    "b1.append(mt_max1)\n",
    "#數學最小值\n",
    "mt_min = np.nanmin(math_score)\n",
    "mt_min1 = np.nanmin(math_score1)\n",
    "b.append(mt_min)\n",
    "b1.append(mt_min1)\n",
    "#數學平均值\n",
    "mt_mean = np.nanmean(math_score)\n",
    "mt_mean1 = np.nanmean(math_score1)\n",
    "b.append(mt_mean)\n",
    "b1.append(mt_mean1)\n",
    "#補考後數學標準差\n",
    "mt_std = np.std(math_score1)\n",
    "b1.append(mt_std)\n",
    "print(b)\n",
    "print(b1)"
   ]
  },
  {
   "cell_type": "code",
   "execution_count": 25,
   "metadata": {},
   "outputs": [
    {
     "name": "stdout",
     "output_type": "stream",
     "text": [
      "[90, 65, 75.33333333333333]\n"
     ]
    }
   ],
   "source": [
    "c = []\n",
    "#中文最大值\n",
    "ch_max = np.max(chinese_score)\n",
    "c.append(ch_max)\n",
    "#中文最小值\n",
    "ch_min = np.min(chinese_score)\n",
    "c.append(ch_min)\n",
    "#中文平均值\n",
    "ch_mean = np.mean(chinese_score)\n",
    "c.append(ch_mean)\n",
    "print(c)"
   ]
  },
  {
   "cell_type": "code",
   "execution_count": 34,
   "metadata": {},
   "outputs": [
    {
     "name": "stdout",
     "output_type": "stream",
     "text": [
      "[[1.         0.74056803]\n",
      " [0.74056803 1.        ]]\n",
      "\n",
      "[[1.         0.97792828]\n",
      " [0.97792828 1.        ]]\n"
     ]
    }
   ],
   "source": [
    "ch_math = np.corrcoef(chinese_score,math_score1)\n",
    "print(ch_math)\n",
    "print(\"\")\n",
    "ch_eng = np.corrcoef(chinese_score,english_score)\n",
    "print(ch_eng)#與國文最有相關的成績是英文\n"
   ]
  },
  {
   "cell_type": "code",
   "execution_count": null,
   "metadata": {},
   "outputs": [],
   "source": []
  }
 ],
 "metadata": {
  "kernelspec": {
   "display_name": "Python 3",
   "language": "python",
   "name": "python3"
  },
  "language_info": {
   "codemirror_mode": {
    "name": "ipython",
    "version": 3
   },
   "file_extension": ".py",
   "mimetype": "text/x-python",
   "name": "python",
   "nbconvert_exporter": "python",
   "pygments_lexer": "ipython3",
   "version": "3.7.3"
  }
 },
 "nbformat": 4,
 "nbformat_minor": 4
}
